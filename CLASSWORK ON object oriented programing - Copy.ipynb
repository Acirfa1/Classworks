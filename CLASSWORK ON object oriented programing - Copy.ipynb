{
 "cells": [
  {
   "cell_type": "code",
   "execution_count": null,
   "id": "b6c734f0",
   "metadata": {},
   "outputs": [],
   "source": [
    "# Object Oriented Programming"
   ]
  },
  {
   "cell_type": "code",
   "execution_count": 38,
   "id": "1976c0a6",
   "metadata": {},
   "outputs": [],
   "source": [
    "class Animal:\n",
    "    def __init__(self,kind,color,habitat,size,name,gender,sound):\n",
    "        self.name = name\n",
    "        self.gender = gender\n",
    "        self.color =color\n",
    "        self.kind = kind\n",
    "        self.habitat = habitat\n",
    "        self.sound = sound\n",
    "        self.size =size\n",
    "        \n",
    "    def make_sound(self):\n",
    "        return f\"{self.name} {self.sound}\"\n",
    "    \n",
    "    def eats(self):\n",
    "        return f\"{self.name} eats\" \n",
    "    \n",
    "    def sleeps(self):\n",
    "        return f\"{self.name} sleeps like a {self.size} dog\""
   ]
  },
  {
   "cell_type": "code",
   "execution_count": 39,
   "id": "942a45d4",
   "metadata": {},
   "outputs": [],
   "source": [
    "animal1 = Animal(\"Dog\",\"White\",\"Terrestrial\",\"Big\",\"Sancho\",\"Male\",\"Barks\")"
   ]
  },
  {
   "cell_type": "code",
   "execution_count": 40,
   "id": "10fffe51",
   "metadata": {},
   "outputs": [
    {
     "data": {
      "text/plain": [
       "'Sancho Barks'"
      ]
     },
     "execution_count": 40,
     "metadata": {},
     "output_type": "execute_result"
    }
   ],
   "source": [
    "animal1.make_sound()"
   ]
  },
  {
   "cell_type": "code",
   "execution_count": 41,
   "id": "fa02726c",
   "metadata": {},
   "outputs": [
    {
     "data": {
      "text/plain": [
       "'Sancho sleeps like a Big dog'"
      ]
     },
     "execution_count": 41,
     "metadata": {},
     "output_type": "execute_result"
    }
   ],
   "source": [
    "animal1.sleeps()"
   ]
  },
  {
   "cell_type": "code",
   "execution_count": 42,
   "id": "eb399ff4",
   "metadata": {},
   "outputs": [
    {
     "data": {
      "text/plain": [
       "'Sancho eats'"
      ]
     },
     "execution_count": 42,
     "metadata": {},
     "output_type": "execute_result"
    }
   ],
   "source": [
    "animal1.eats()"
   ]
  },
  {
   "cell_type": "code",
   "execution_count": 53,
   "id": "df62dc38",
   "metadata": {},
   "outputs": [],
   "source": [
    "#####"
   ]
  },
  {
   "cell_type": "code",
   "execution_count": 54,
   "id": "b358abfc",
   "metadata": {},
   "outputs": [],
   "source": [
    "class School:\n",
    "    def __init__(self,name,location,types):\n",
    "        self.name=name\n",
    "        self.location=location\n",
    "        self.types=types\n",
    "        \n",
    "    "
   ]
  },
  {
   "cell_type": "code",
   "execution_count": 55,
   "id": "f8342dfd",
   "metadata": {},
   "outputs": [],
   "source": [
    "School1 = School(\"Uniport\",\"Choba\",\"University\")\n",
    "School2 = School(\"UDSS\", \"Aluu\",\"Secondary\")\n"
   ]
  },
  {
   "cell_type": "code",
   "execution_count": 56,
   "id": "178e32fd",
   "metadata": {},
   "outputs": [
    {
     "data": {
      "text/plain": [
       "'Choba'"
      ]
     },
     "execution_count": 56,
     "metadata": {},
     "output_type": "execute_result"
    }
   ],
   "source": [
    "School1.location"
   ]
  },
  {
   "cell_type": "code",
   "execution_count": 4,
   "id": "cf0cd6e3",
   "metadata": {},
   "outputs": [],
   "source": [
    "class Vector:\n",
    "    def __init__(self,x,y,z):\n",
    "        self.x=x\n",
    "        self.y=y\n",
    "        self.z=z\n",
    "        \n",
    "    def get_magnitude(self):\n",
    "        return (self.x**2+self.y**2+self.z**2)**0.5\n",
    "    \n",
    "    def get_dimension(self):\n",
    "        return 3"
   ]
  },
  {
   "cell_type": "code",
   "execution_count": 5,
   "id": "5efe4217",
   "metadata": {},
   "outputs": [],
   "source": [
    "v1=Vector(2,1,-4)"
   ]
  },
  {
   "cell_type": "code",
   "execution_count": 7,
   "id": "b524ab62",
   "metadata": {},
   "outputs": [
    {
     "data": {
      "text/plain": [
       "2"
      ]
     },
     "execution_count": 7,
     "metadata": {},
     "output_type": "execute_result"
    }
   ],
   "source": [
    "v1.x"
   ]
  },
  {
   "cell_type": "code",
   "execution_count": 8,
   "id": "d80c6551",
   "metadata": {},
   "outputs": [
    {
     "data": {
      "text/plain": [
       "1"
      ]
     },
     "execution_count": 8,
     "metadata": {},
     "output_type": "execute_result"
    }
   ],
   "source": [
    "v1.y"
   ]
  },
  {
   "cell_type": "code",
   "execution_count": 9,
   "id": "276103ce",
   "metadata": {},
   "outputs": [
    {
     "data": {
      "text/plain": [
       "4.58257569495584"
      ]
     },
     "execution_count": 9,
     "metadata": {},
     "output_type": "execute_result"
    }
   ],
   "source": [
    "v1.get_magnitude()"
   ]
  },
  {
   "cell_type": "code",
   "execution_count": 31,
   "id": "f7c5122c",
   "metadata": {},
   "outputs": [],
   "source": [
    "class Quadratic:\n",
    "    def __init__(self,a,b,c):\n",
    "        self.a=a\n",
    "        self.b=b\n",
    "        self.c=c\n",
    "        \n",
    "    def discriminant(self):\n",
    "        return self.b**2 - 4*self.a*self.c\n",
    "    \n",
    "    def get_roots(self):\n",
    "        d = self.discriminant()\n",
    "        if d<0:\n",
    "            return \"The roots are imaginary\"\n",
    "        elif d==0:\n",
    "            x= -self.b/(2*self.a)\n",
    "            return x\n",
    "        else:\n",
    "            x1= (-self.b+(d)**0.5)/(2*self.a)\n",
    "            x2= (-self.b-(d)**0.5)/(2*self.a)\n",
    "            return x1,x2\n",
    "        \n",
    "    "
   ]
  },
  {
   "cell_type": "code",
   "execution_count": 32,
   "id": "fae632c6",
   "metadata": {},
   "outputs": [],
   "source": [
    "q1= Quadratic(1,5,6)\n",
    "q2= Quadratic(1,-4,4)\n"
   ]
  },
  {
   "cell_type": "code",
   "execution_count": 33,
   "id": "3c938e6e",
   "metadata": {},
   "outputs": [
    {
     "data": {
      "text/plain": [
       "1"
      ]
     },
     "execution_count": 33,
     "metadata": {},
     "output_type": "execute_result"
    }
   ],
   "source": [
    "q1.a"
   ]
  },
  {
   "cell_type": "code",
   "execution_count": 34,
   "id": "2be430d4",
   "metadata": {},
   "outputs": [
    {
     "data": {
      "text/plain": [
       "1"
      ]
     },
     "execution_count": 34,
     "metadata": {},
     "output_type": "execute_result"
    }
   ],
   "source": [
    "q1.discriminant()"
   ]
  },
  {
   "cell_type": "code",
   "execution_count": 35,
   "id": "dfdd4987",
   "metadata": {},
   "outputs": [
    {
     "data": {
      "text/plain": [
       "0"
      ]
     },
     "execution_count": 35,
     "metadata": {},
     "output_type": "execute_result"
    }
   ],
   "source": [
    "q2.discriminant()"
   ]
  },
  {
   "cell_type": "code",
   "execution_count": 36,
   "id": "e3fbfaa1",
   "metadata": {},
   "outputs": [
    {
     "data": {
      "text/plain": [
       "(-2.0, -3.0)"
      ]
     },
     "execution_count": 36,
     "metadata": {},
     "output_type": "execute_result"
    }
   ],
   "source": [
    "q1.get_roots()"
   ]
  },
  {
   "cell_type": "code",
   "execution_count": 37,
   "id": "258da5fd",
   "metadata": {},
   "outputs": [
    {
     "data": {
      "text/plain": [
       "2.0"
      ]
     },
     "execution_count": 37,
     "metadata": {},
     "output_type": "execute_result"
    }
   ],
   "source": [
    "q2.get_roots()"
   ]
  },
  {
   "cell_type": "code",
   "execution_count": 38,
   "id": "539edcdc",
   "metadata": {},
   "outputs": [
    {
     "ename": "TypeError",
     "evalue": "unsupported operand type(s) for +: 'Quadratic' and 'Quadratic'",
     "output_type": "error",
     "traceback": [
      "\u001b[1;31m---------------------------------------------------------------------------\u001b[0m",
      "\u001b[1;31mTypeError\u001b[0m                                 Traceback (most recent call last)",
      "Cell \u001b[1;32mIn[38], line 1\u001b[0m\n\u001b[1;32m----> 1\u001b[0m q1\u001b[38;5;241m+\u001b[39mq2\n",
      "\u001b[1;31mTypeError\u001b[0m: unsupported operand type(s) for +: 'Quadratic' and 'Quadratic'"
     ]
    }
   ],
   "source": [
    "q1+q2"
   ]
  },
  {
   "cell_type": "code",
   "execution_count": 30,
   "id": "02ee4b52",
   "metadata": {},
   "outputs": [],
   "source": [
    "### This programme below adds the addition function to eanble us add the quadrants"
   ]
  },
  {
   "cell_type": "code",
   "execution_count": 43,
   "id": "d41f1267",
   "metadata": {},
   "outputs": [],
   "source": [
    "class Quadratic:\n",
    "    def __init__(self,a,b,c):\n",
    "        self.a=a\n",
    "        self.b=b\n",
    "        self.c=c\n",
    "        \n",
    "    def discriminant(self):\n",
    "        return self.b**2 - 4*self.a*self.c\n",
    "    \n",
    "    def get_roots(self):\n",
    "        d = self.discriminant()\n",
    "        if d<0:\n",
    "            return \"The roots are imaginary\"\n",
    "        elif d==0:\n",
    "            x= -self.b/(2*self.a)\n",
    "            return x\n",
    "        else:\n",
    "            x1= (-self.b+(d)**0.5)/(2*self.a)\n",
    "            x2= (-self.b-(d)**0.5)/(2*self.a)\n",
    "            return x1,x2\n",
    "        \n",
    "    def __add__(self,other):\n",
    "        return f\"{self.a+other.a}x^2+{self.b+other.b}x+{self.c+other.c}\"\n",
    "    \n",
    "   "
   ]
  },
  {
   "cell_type": "code",
   "execution_count": 44,
   "id": "3b9ab9ed",
   "metadata": {},
   "outputs": [],
   "source": [
    "q1= Quadratic(1,5,6)\n",
    "q2= Quadratic(1,-4,4)"
   ]
  },
  {
   "cell_type": "code",
   "execution_count": 45,
   "id": "e5881cdf",
   "metadata": {},
   "outputs": [
    {
     "data": {
      "text/plain": [
       "'2x^2+1x+10'"
      ]
     },
     "execution_count": 45,
     "metadata": {},
     "output_type": "execute_result"
    }
   ],
   "source": [
    "q1+q2"
   ]
  },
  {
   "cell_type": "code",
   "execution_count": 46,
   "id": "618f92b5",
   "metadata": {},
   "outputs": [
    {
     "name": "stdout",
     "output_type": "stream",
     "text": [
      "<__main__.Quadratic object at 0x000002AD360E1390>\n"
     ]
    }
   ],
   "source": [
    "print(q1)"
   ]
  },
  {
   "cell_type": "code",
   "execution_count": 47,
   "id": "109bff1b",
   "metadata": {},
   "outputs": [],
   "source": [
    "# This programme about to write helps pick out each of the digits in a function as q1 above didnt do it "
   ]
  },
  {
   "cell_type": "code",
   "execution_count": 48,
   "id": "1270b467",
   "metadata": {},
   "outputs": [],
   "source": [
    "class Quadratic:\n",
    "    def __init__(self,a,b,c):\n",
    "        self.a=a\n",
    "        self.b=b\n",
    "        self.c=c\n",
    "        \n",
    "    def discriminant(self):\n",
    "        return self.b**2 - 4*self.a*self.c\n",
    "    \n",
    "    def get_roots(self):\n",
    "        d = self.discriminant()\n",
    "        if d<0:\n",
    "            return \"The roots are imaginary\"\n",
    "        elif d==0:\n",
    "            x= -self.b/(2*self.a)\n",
    "            return x\n",
    "        else:\n",
    "            x1= (-self.b+(d)**0.5)/(2*self.a)\n",
    "            x2= (-self.b-(d)**0.5)/(2*self.a)\n",
    "            return x1,x2\n",
    "        \n",
    "    def __add__(self,other):\n",
    "        return f\"{self.a+other.a}x^2+{self.b+other.b}x+{self.c+other.c}\"\n",
    "    \n",
    "   # This prohgramme below aids us to pick each of the digits\n",
    "    def __repr__(self):\n",
    "        return f\"Quadratic({self.a},{self.b},{self.c})\"\n",
    "    \n",
    "    def __str__(self):\n",
    "        return f\"{self.a}x^2+{self.b}x+{self.c}\""
   ]
  },
  {
   "cell_type": "code",
   "execution_count": 49,
   "id": "b81d57d7",
   "metadata": {},
   "outputs": [],
   "source": [
    "q1= Quadratic(1,5,6)\n",
    "q2= Quadratic(1,-4,4)\n"
   ]
  },
  {
   "cell_type": "code",
   "execution_count": 50,
   "id": "320b8606",
   "metadata": {},
   "outputs": [
    {
     "name": "stdout",
     "output_type": "stream",
     "text": [
      "1x^2+5x+6\n"
     ]
    }
   ],
   "source": [
    "print(q1)"
   ]
  },
  {
   "cell_type": "code",
   "execution_count": 51,
   "id": "0df9059d",
   "metadata": {},
   "outputs": [
    {
     "data": {
      "text/plain": [
       "Quadratic(1,5,6)"
      ]
     },
     "execution_count": 51,
     "metadata": {},
     "output_type": "execute_result"
    }
   ],
   "source": [
    "q1"
   ]
  },
  {
   "cell_type": "code",
   "execution_count": 52,
   "id": "d8c48486",
   "metadata": {},
   "outputs": [],
   "source": [
    "q3= q1"
   ]
  },
  {
   "cell_type": "code",
   "execution_count": 53,
   "id": "c17e720c",
   "metadata": {},
   "outputs": [
    {
     "data": {
      "text/plain": [
       "Quadratic(1,5,6)"
      ]
     },
     "execution_count": 53,
     "metadata": {},
     "output_type": "execute_result"
    }
   ],
   "source": [
    "q3"
   ]
  },
  {
   "cell_type": "code",
   "execution_count": null,
   "id": "9c274c10",
   "metadata": {},
   "outputs": [],
   "source": []
  }
 ],
 "metadata": {
  "kernelspec": {
   "display_name": "Python 3 (ipykernel)",
   "language": "python",
   "name": "python3"
  },
  "language_info": {
   "codemirror_mode": {
    "name": "ipython",
    "version": 3
   },
   "file_extension": ".py",
   "mimetype": "text/x-python",
   "name": "python",
   "nbconvert_exporter": "python",
   "pygments_lexer": "ipython3",
   "version": "3.11.4"
  }
 },
 "nbformat": 4,
 "nbformat_minor": 5
}
