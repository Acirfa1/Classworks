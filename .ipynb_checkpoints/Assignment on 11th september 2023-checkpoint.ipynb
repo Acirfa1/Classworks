{
 "cells": [
  {
   "cell_type": "markdown",
   "id": "5784c12d",
   "metadata": {},
   "source": [
    "# ASSIGNMENT OF MONDAY 11TH 2023"
   ]
  },
  {
   "cell_type": "code",
   "execution_count": null,
   "id": "1b7d9152",
   "metadata": {},
   "outputs": [],
   "source": [
    "\n"
   ]
  },
  {
   "cell_type": "code",
   "execution_count": null,
   "id": "95fc7531",
   "metadata": {},
   "outputs": [],
   "source": [
    "import random as rd\n",
    "\n",
    "rd.randint(2,20)\n",
    "\n",
    "\n",
    "\n",
    "\n",
    "\n"
   ]
  },
  {
   "cell_type": "code",
   "execution_count": null,
   "id": "7a35bc1e",
   "metadata": {},
   "outputs": [],
   "source": [
    "magic_num=input()\n",
    "num_of_guesses=4\n",
    "for i in range(num_of_guesses):\n",
    "    guess= rd.randint(2,20)\n",
    "    if guess==guess:\n",
    "        print(input(\"HOLD on....\"))\n",
    "        \n",
    "    \n",
    "    \n",
    "    "
   ]
  },
  {
   "cell_type": "code",
   "execution_count": null,
   "id": "4aaa751a",
   "metadata": {},
   "outputs": [],
   "source": [
    "# QUESTION 5 FROM THE WORKBOOK"
   ]
  },
  {
   "cell_type": "code",
   "execution_count": 21,
   "id": "1feb56a2",
   "metadata": {},
   "outputs": [
    {
     "name": "stdout",
     "output_type": "stream",
     "text": [
      "Enter the digit representing number of cans for one litre: 888\n",
      "Your effort towards the reduce plastic goal is appreciated, please wait while we calculate your deposits\n",
      "$88.8 is your deposit by 0.10 dollars\n",
      "Enter the digit representing number of cans above one litres: 999\n",
      "Your effort towards the reduce plastic goal is appreciated, please wait while we calculate your deposits\n",
      "$249.75 is your deposit by 0.25 dollars\n"
     ]
    }
   ],
   "source": [
    "num_of_one_lit = int(input(\"Enter the digit representing number of cans for one litre: \"))\n",
    "result_for_one_lit = round(num_of_one_lit *0.10, 2)\n",
    "deposit = round(result_for_one_lit, 2)\n",
    "print(\"Your effort towards the reduce plastic goal is appreciated, please wait while we calculate your deposits\")\n",
    "print(f\"${deposit} is your deposit by 0.10 dollars\")\n",
    "\n",
    "num_of_two_lits = int(input(\"Enter the digit representing number of cans above one litres: \"))\n",
    "result_for_two_lits = num_of_two_lits *0.25\n",
    "deposits = round(result_for_two_lits, 2)\n",
    "print(\"Your effort towards the reduce plastic goal is appreciated, please wait while we calculate your deposits\")\n",
    "print(f\"${deposits} is your deposit by 0.25 dollars\")\n"
   ]
  },
  {
   "cell_type": "code",
   "execution_count": 22,
   "id": "aef0c403",
   "metadata": {},
   "outputs": [],
   "source": [
    "# QUESTION 6 FROM THE WORKBOOK\n"
   ]
  },
  {
   "cell_type": "code",
   "execution_count": 31,
   "id": "f74036f7",
   "metadata": {},
   "outputs": [
    {
     "name": "stdout",
     "output_type": "stream",
     "text": [
      "Your meal cost is $1300\n",
      " Your tax cost is $260.0\n",
      " Your tip cost is $234.0\n",
      " So your total bill is $1794.0\n",
      " Thank you, for patronizing SMARTHUB kitchen, hope you enjoyed your meal\n",
      " COURTESY OF HILDA BACCI\n"
     ]
    }
   ],
   "source": [
    "meal = 1300 \n",
    "# tax is equal to 20 percent of meal while tip is equal to 18% of the meal\n",
    "tip = 0.18* meal \n",
    "tax = 0.20* meal\n",
    "total_meal = tip+tax+meal\n",
    "print(f\"Your meal cost is ${meal}\\n Your tax cost is ${tax}\\n Your tip cost is ${tip}\\n So your total bill is ${total_meal}\")\n",
    "print(f\" Thank you, for patronizing SMARTHUB kitchen, hope you enjoyed your meal\\n COURTESY OF HILDA BACCI\")\n",
    "\n"
   ]
  },
  {
   "cell_type": "code",
   "execution_count": 32,
   "id": "572ad092",
   "metadata": {},
   "outputs": [],
   "source": [
    "#QUESTION 7"
   ]
  },
  {
   "cell_type": "code",
   "execution_count": 51,
   "id": "cd7b5d4b",
   "metadata": {},
   "outputs": [
    {
     "name": "stdout",
     "output_type": "stream",
     "text": [
      "Enter any number: 8\n",
      "36.0\n"
     ]
    }
   ],
   "source": [
    "n= int(input(\"Enter any number: \"))\n",
    "sum= n**2 +n\n",
    "result= sum/2\n",
    "print(result)"
   ]
  },
  {
   "cell_type": "code",
   "execution_count": 52,
   "id": "9fe66957",
   "metadata": {},
   "outputs": [],
   "source": [
    "# QUESTION 8"
   ]
  },
  {
   "cell_type": "code",
   "execution_count": 59,
   "id": "b748d149",
   "metadata": {},
   "outputs": [
    {
     "name": "stdout",
     "output_type": "stream",
     "text": [
      "Enter the total gizmo bought:  4\n",
      "WEIGHT OF GIZMO IS 112 GRAMS PER ONE\n",
      "The total weight of gizmo is 448, procced to the cashier to get your bill\n",
      "Enter the total widgets bought:  3\n",
      "WEIGHT OF WIDGET IS 75 GRAMS PER ONE\n",
      "The total weight of widget is 448, procced to the cashier to get your bill\n"
     ]
    }
   ],
   "source": [
    "gizmo= (int(input(\"Enter the total gizmo bought:  \")))\n",
    "weight_of_gizmo= 112\n",
    "total_gizmo= gizmo* weight_of_gizmo\n",
    "print(\"WEIGHT OF GIZMO IS 112 GRAMS PER ONE\")\n",
    "print(f\"The total weight of gizmo is {total_gizmo}, procced to the cashier to get your bill\")\n",
    "\n",
    "widget= (int(input(\"Enter the total widgets bought:  \")))\n",
    "weight_of_widgets= 75\n",
    "total_widget= gizmo* weight_of_widgets\n",
    "print(\"WEIGHT OF WIDGET IS 75 GRAMS PER ONE\")\n",
    "print(f\"The total weight of widget is {total_widget}, procced to the cashier to get your bill\")"
   ]
  },
  {
   "cell_type": "code",
   "execution_count": null,
   "id": "353e4968",
   "metadata": {},
   "outputs": [],
   "source": [
    "# QUESTION 9"
   ]
  },
  {
   "cell_type": "code",
   "execution_count": null,
   "id": "b9ed11c8",
   "metadata": {},
   "outputs": [],
   "source": [
    "amount_deposited= (input(\"Enter the amount of money deposited into accont: \"))\n",
    "interest= 0.4 *amount_deposited\n"
   ]
  }
 ],
 "metadata": {
  "kernelspec": {
   "display_name": "Python 3 (ipykernel)",
   "language": "python",
   "name": "python3"
  },
  "language_info": {
   "codemirror_mode": {
    "name": "ipython",
    "version": 3
   },
   "file_extension": ".py",
   "mimetype": "text/x-python",
   "name": "python",
   "nbconvert_exporter": "python",
   "pygments_lexer": "ipython3",
   "version": "3.11.4"
  }
 },
 "nbformat": 4,
 "nbformat_minor": 5
}
