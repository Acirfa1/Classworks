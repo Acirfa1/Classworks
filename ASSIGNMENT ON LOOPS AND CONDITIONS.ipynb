{
 "cells": [
  {
   "cell_type": "markdown",
   "id": "f917be17",
   "metadata": {},
   "source": [
    "# ASSIGNMENT GIVEN ON WEDNESDAY 6TH SEPTEMBER 2023"
   ]
  },
  {
   "cell_type": "code",
   "execution_count": null,
   "id": "894f556e",
   "metadata": {},
   "outputs": [],
   "source": [
    " # QUESTION 1 FROM THE WORKBOOK\n",
    "    #EXERCISE 38\n",
    "# The length of a month varies from 28 to 31 days. In this exercise create a program that reads the \n",
    "# name of a month from the user as a string. Then your program should display the number of days in \n",
    "# that month. Display \"28 or 29\" days for Febuary so that leap years are addressed."
   ]
  },
  {
   "cell_type": "code",
   "execution_count": 11,
   "id": "328efd34",
   "metadata": {},
   "outputs": [
    {
     "name": "stdout",
     "output_type": "stream",
     "text": [
      "Enter the desired month may\n",
      "The number of days is 31\n"
     ]
    }
   ],
   "source": [
    "month= input(\"Enter the desired month \").lower()\n",
    "if month in \"january\" or \"march\" or \"may\" or \"july\" or \"august\" or \"september\" or \"october\" or \"december\":\n",
    "    print(\"The number of days is 31\")    \n",
    "elif month ==\"february\":\n",
    "    print(\"The number of days in the inputted month is 28 or 29 days\")\n",
    "elif month in \"september\" or \"april\" or \"june\" or \"november\":\n",
    "    print(\"The number of days is 30\") \n",
    "else:\n",
    "    print(f\"Input month or a recognized month of the year\")"
   ]
  },
  {
   "cell_type": "markdown",
   "id": "812695cd",
   "metadata": {},
   "source": [
    "# LOOPS QUESTIONS"
   ]
  },
  {
   "cell_type": "code",
   "execution_count": null,
   "id": "984a81e2",
   "metadata": {},
   "outputs": [],
   "source": [
    "# Question 1\n",
    "# Write a python program that prints each item and its corresponding type from a given list."
   ]
  },
  {
   "cell_type": "code",
   "execution_count": 12,
   "id": "289b4e55",
   "metadata": {},
   "outputs": [
    {
     "name": "stdout",
     "output_type": "stream",
     "text": [
      "<class 'int'>\n",
      "<class 'float'>\n",
      "<class 'complex'>\n",
      "<class 'bool'>\n",
      "<class 'str'>\n",
      "<class 'tuple'>\n",
      "<class 'list'>\n",
      "<class 'dict'>\n"
     ]
    }
   ],
   "source": [
    "languages= [1452, 11.23, 1+2j, True, 'w3resource', (0,-1), [5,12], {\"class\":'V',\"section\":'A'}]\n",
    " # to run a loop for each item of the list\n",
    "for language in languages:\n",
    "    print(type(language))"
   ]
  },
  {
   "cell_type": "code",
   "execution_count": null,
   "id": "a5e8d2bf",
   "metadata": {},
   "outputs": [],
   "source": [
    "# QUESTION 2\n",
    "# Write a python program that prints all the numbers from 0 to 6 except 3 and 6. NB: Use a 'continue' \n",
    "# statement.\n"
   ]
  },
  {
   "cell_type": "code",
   "execution_count": null,
   "id": "05923e17",
   "metadata": {},
   "outputs": [],
   "source": [
    "number= 6\n",
    "while number<6 or number>0:\n",
    "    print(\"This is out of the required range\")\n",
    "if number == 3 or number == 6:\n",
    "    break\n",
    "print(\"Current number is:\", number)\n",
    "    \n"
   ]
  },
  {
   "cell_type": "code",
   "execution_count": 13,
   "id": "f45fde2a",
   "metadata": {},
   "outputs": [
    {
     "name": "stdout",
     "output_type": "stream",
     "text": [
      "1\n",
      "2\n",
      "4\n",
      "5\n"
     ]
    }
   ],
   "source": [
    "for x in range(0,7,1):\n",
    "    if x % 3 == 0:\n",
    "        continue\n",
    "    print(x)\n",
    "    "
   ]
  },
  {
   "cell_type": "code",
   "execution_count": 14,
   "id": "86fb168a",
   "metadata": {},
   "outputs": [
    {
     "name": "stdout",
     "output_type": "stream",
     "text": [
      "fizz\n",
      "1\n",
      "2\n",
      "fizz\n",
      "4\n",
      "Buzz\n",
      "fizz\n",
      "7\n",
      "8\n",
      "fizz\n",
      "Buzz\n",
      "11\n",
      "fizz\n",
      "13\n",
      "14\n",
      "fizz\n",
      "16\n",
      "17\n",
      "fizz\n",
      "19\n",
      "Buzz\n",
      "fizz\n",
      "22\n",
      "23\n",
      "fizz\n",
      "Buzz\n",
      "26\n",
      "fizz\n",
      "28\n",
      "29\n",
      "fizz\n",
      "31\n",
      "32\n",
      "fizz\n",
      "34\n",
      "Buzz\n",
      "fizz\n",
      "37\n",
      "38\n",
      "fizz\n",
      "Buzz\n",
      "41\n",
      "fizz\n",
      "43\n",
      "44\n",
      "fizz\n",
      "46\n",
      "47\n",
      "fizz\n",
      "49\n",
      "Buzz\n"
     ]
    }
   ],
   "source": [
    "for vincent in range(0,51):\n",
    "    if vincent % 3 == 0:\n",
    "        print(\"fizz\")\n",
    "        continue\n",
    "    elif vincent % 5 == 0:\n",
    "        print(\"Buzz\")\n",
    "        continue\n",
    "    elif vincent % 3 and vincent % 5 == 0:\n",
    "        print(\"fizzbuzz\")\n",
    "    else:\n",
    "        print(vincent)"
   ]
  },
  {
   "cell_type": "code",
   "execution_count": 15,
   "id": "c4f09b60",
   "metadata": {},
   "outputs": [
    {
     "name": "stdout",
     "output_type": "stream",
     "text": [
      "100,\n",
      "102,\n",
      "104,\n",
      "106,\n",
      "108,\n",
      "110,\n",
      "112,\n",
      "114,\n",
      "116,\n",
      "118,\n",
      "120,\n",
      "122,\n",
      "124,\n",
      "126,\n",
      "128,\n",
      "130,\n",
      "132,\n",
      "134,\n",
      "136,\n",
      "138,\n",
      "140,\n",
      "142,\n",
      "144,\n",
      "146,\n",
      "148,\n",
      "150,\n",
      "152,\n",
      "154,\n",
      "156,\n",
      "158,\n",
      "160,\n",
      "162,\n",
      "164,\n",
      "166,\n",
      "168,\n",
      "170,\n",
      "172,\n",
      "174,\n",
      "176,\n",
      "178,\n",
      "180,\n",
      "182,\n",
      "184,\n",
      "186,\n",
      "188,\n",
      "190,\n",
      "192,\n",
      "194,\n",
      "196,\n",
      "198,\n",
      "200,\n",
      "202,\n",
      "204,\n",
      "206,\n",
      "208,\n",
      "210,\n",
      "212,\n",
      "214,\n",
      "216,\n",
      "218,\n",
      "220,\n",
      "222,\n",
      "224,\n",
      "226,\n",
      "228,\n",
      "230,\n",
      "232,\n",
      "234,\n",
      "236,\n",
      "238,\n",
      "240,\n",
      "242,\n",
      "244,\n",
      "246,\n",
      "248,\n",
      "250,\n",
      "252,\n",
      "254,\n",
      "256,\n",
      "258,\n",
      "260,\n",
      "262,\n",
      "264,\n",
      "266,\n",
      "268,\n",
      "270,\n",
      "272,\n",
      "274,\n",
      "276,\n",
      "278,\n",
      "280,\n",
      "282,\n",
      "284,\n",
      "286,\n",
      "288,\n",
      "290,\n",
      "292,\n",
      "294,\n",
      "296,\n",
      "298,\n",
      "300,\n",
      "302,\n",
      "304,\n",
      "306,\n",
      "308,\n",
      "310,\n",
      "312,\n",
      "314,\n",
      "316,\n",
      "318,\n",
      "320,\n",
      "322,\n",
      "324,\n",
      "326,\n",
      "328,\n",
      "330,\n",
      "332,\n",
      "334,\n",
      "336,\n",
      "338,\n",
      "340,\n",
      "342,\n",
      "344,\n",
      "346,\n",
      "348,\n",
      "350,\n",
      "352,\n",
      "354,\n",
      "356,\n",
      "358,\n",
      "360,\n",
      "362,\n",
      "364,\n",
      "366,\n",
      "368,\n",
      "370,\n",
      "372,\n",
      "374,\n",
      "376,\n",
      "378,\n",
      "380,\n",
      "382,\n",
      "384,\n",
      "386,\n",
      "388,\n",
      "390,\n",
      "392,\n",
      "394,\n",
      "396,\n",
      "398,\n",
      "400,\n"
     ]
    }
   ],
   "source": [
    "for i in range(100,401,2):\n",
    "    print(f\"{i},\")"
   ]
  },
  {
   "cell_type": "markdown",
   "id": "06bc60b9",
   "metadata": {},
   "source": [
    "# CONDITIONS QUESTION \n"
   ]
  },
  {
   "cell_type": "code",
   "execution_count": null,
   "id": "b32dd16c",
   "metadata": {},
   "outputs": [],
   "source": [
    "# '''A year is a leap year if it is divisible by 4, except that years divisible by 100 are not \n",
    "# leap years unles they are also divisible by 400. write a program that asks the user for a year and\n",
    "# prints out whether its a leap year or not # '''\n",
    "                   # SOLUTION\n",
    "    "
   ]
  },
  {
   "cell_type": "code",
   "execution_count": 16,
   "id": "ee36517b",
   "metadata": {},
   "outputs": [
    {
     "name": "stdout",
     "output_type": "stream",
     "text": [
      "Enter the year:2024\n",
      "This is a leap year, how beautiful it must be to witness it\n"
     ]
    }
   ],
   "source": [
    "month=2\n",
    "year=int(input(\"Enter the year:\"))\n",
    "if month==2 and (year%4==0) and (year%100!=0):\n",
    "    print(\"This is a leap year, how beautiful it must be to witness it\")\n",
    "elif month==2:\n",
    "    print(\"This is not a leap year\")\n",
    "else:\n",
    "    print(\"Input month in number representation,Eg: May=5,April=4\")\n",
    "\n"
   ]
  },
  {
   "cell_type": "code",
   "execution_count": null,
   "id": "c997f1ff",
   "metadata": {},
   "outputs": [],
   "source": [
    "# Question 2\n",
    "# Write a program that asks the user to enter a number and prints out all the divisors of that number.\n"
   ]
  },
  {
   "cell_type": "code",
   "execution_count": 17,
   "id": "e10453e4",
   "metadata": {},
   "outputs": [
    {
     "name": "stdout",
     "output_type": "stream",
     "text": [
      "Enter any number:66\n",
      "[0]\n"
     ]
    }
   ],
   "source": [
    "number=int(input(\"Enter any number:\"))\n",
    "def divisors(number):\n",
    "    result = []\n",
    "    for i in range(1000):\n",
    "        if number % 3 == 0:\n",
    "            result.append(i)\n",
    "            return result\n",
    "print(divisors(number))\n"
   ]
  },
  {
   "cell_type": "code",
   "execution_count": null,
   "id": "171929d1",
   "metadata": {},
   "outputs": [],
   "source": []
  },
  {
   "cell_type": "code",
   "execution_count": null,
   "id": "ed4c3bc8",
   "metadata": {},
   "outputs": [],
   "source": []
  }
 ],
 "metadata": {
  "kernelspec": {
   "display_name": "Python 3 (ipykernel)",
   "language": "python",
   "name": "python3"
  },
  "language_info": {
   "codemirror_mode": {
    "name": "ipython",
    "version": 3
   },
   "file_extension": ".py",
   "mimetype": "text/x-python",
   "name": "python",
   "nbconvert_exporter": "python",
   "pygments_lexer": "ipython3",
   "version": "3.11.4"
  }
 },
 "nbformat": 4,
 "nbformat_minor": 5
}
